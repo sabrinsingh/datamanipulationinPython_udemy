{
 "cells": [
  {
   "cell_type": "code",
   "execution_count": 1,
   "metadata": {},
   "outputs": [],
   "source": [
    "import numpy as np"
   ]
  },
  {
   "cell_type": "markdown",
   "id": "4aa27b55",
   "metadata": {},
   "source": [
    "zeros Array"
   ]
  },
  {
   "cell_type": "code",
   "execution_count": 2,
   "id": "42c6a2ac",
   "metadata": {},
   "outputs": [
    {
     "name": "stdout",
     "output_type": "stream",
     "text": [
      "[0. 0. 0. 0. 0. 0. 0. 0. 0. 0.]\n",
      "1\n"
     ]
    }
   ],
   "source": [
    "zerosArray = np.zeros(10)\n",
    "print(zerosArray)\n",
    "print(zerosArray.ndim)"
   ]
  },
  {
   "cell_type": "code",
   "execution_count": 3,
   "id": "0997b8b9",
   "metadata": {},
   "outputs": [
    {
     "name": "stdout",
     "output_type": "stream",
     "text": [
      "[[0. 0.]]\n",
      "2\n"
     ]
    }
   ],
   "source": [
    "zerosArray = np.zeros([1,2])\n",
    "print(zerosArray)\n",
    "print(zerosArray.ndim)"
   ]
  },
  {
   "cell_type": "code",
   "execution_count": 4,
   "id": "1a5438c9",
   "metadata": {},
   "outputs": [
    {
     "name": "stdout",
     "output_type": "stream",
     "text": [
      "[[[0. 0. 0. 0. 0. 0. 0. 0. 0. 0.]\n",
      "  [0. 0. 0. 0. 0. 0. 0. 0. 0. 0.]]]\n",
      "3\n"
     ]
    }
   ],
   "source": [
    "zerosArray = np.zeros([1,2,10])\n",
    "print(zerosArray)\n",
    "print(zerosArray.ndim)"
   ]
  },
  {
   "cell_type": "code",
   "execution_count": 5,
   "id": "38b811c3",
   "metadata": {},
   "outputs": [
    {
     "name": "stdout",
     "output_type": "stream",
     "text": [
      "[0 0 0 0 0]\n"
     ]
    }
   ],
   "source": [
    "#for int type of zeros\n",
    "\n",
    "zerosArray = np.zeros(5).astype(int)\n",
    "print(zerosArray)"
   ]
  },
  {
   "cell_type": "code",
   "execution_count": 6,
   "id": "ddad56e4",
   "metadata": {},
   "outputs": [
    {
     "name": "stdout",
     "output_type": "stream",
     "text": [
      "[[0]\n",
      " [0]\n",
      " [0]\n",
      " [0]\n",
      " [0]]\n"
     ]
    }
   ],
   "source": [
    "#for int type of zeros\n",
    "\n",
    "zerosArray = np.zeros([5,1]).astype(int)\n",
    "print(zerosArray)"
   ]
  },
  {
   "cell_type": "code",
   "execution_count": 7,
   "id": "957e2543",
   "metadata": {},
   "outputs": [
    {
     "name": "stdout",
     "output_type": "stream",
     "text": [
      "[[[0 0]]\n",
      "\n",
      " [[0 0]]\n",
      "\n",
      " [[0 0]]\n",
      "\n",
      " [[0 0]]\n",
      "\n",
      " [[0 0]]]\n"
     ]
    }
   ],
   "source": [
    "#for int type of zeros\n",
    "\n",
    "zerosArray = np.zeros([5,1,2]).astype(int)\n",
    "print(zerosArray)"
   ]
  },
  {
   "cell_type": "markdown",
   "id": "49786312",
   "metadata": {},
   "source": [
    "Ones Array"
   ]
  },
  {
   "cell_type": "code",
   "execution_count": 8,
   "id": "aebe9fd1",
   "metadata": {},
   "outputs": [
    {
     "name": "stdout",
     "output_type": "stream",
     "text": [
      "[1 1 1 1 1 1 1 1 1 1]\n"
     ]
    }
   ],
   "source": [
    "onesArray = np.ones(10).astype(int)\n",
    "print(onesArray)"
   ]
  },
  {
   "cell_type": "code",
   "execution_count": 9,
   "id": "60bb49a7",
   "metadata": {},
   "outputs": [
    {
     "name": "stdout",
     "output_type": "stream",
     "text": [
      "[[1 1 1]\n",
      " [1 1 1]]\n"
     ]
    }
   ],
   "source": [
    "onesArray = np.ones([2,3]).astype(int)\n",
    "print(onesArray)"
   ]
  },
  {
   "cell_type": "code",
   "execution_count": 10,
   "id": "aa69638d",
   "metadata": {},
   "outputs": [
    {
     "name": "stdout",
     "output_type": "stream",
     "text": [
      "[[[1]\n",
      "  [1]\n",
      "  [1]]\n",
      "\n",
      " [[1]\n",
      "  [1]\n",
      "  [1]]]\n"
     ]
    }
   ],
   "source": [
    "onesArray = np.ones([2,3,1]).astype(int)\n",
    "print(onesArray)"
   ]
  },
  {
   "cell_type": "markdown",
   "id": "2114c3b6",
   "metadata": {},
   "source": [
    "Full array --- To fill the element of our choice"
   ]
  },
  {
   "cell_type": "code",
   "execution_count": 11,
   "id": "8ed9f968",
   "metadata": {},
   "outputs": [
    {
     "name": "stdout",
     "output_type": "stream",
     "text": [
      "[2.5 2.5 2.5]\n"
     ]
    }
   ],
   "source": [
    "fullArray = np.full(3,2.5)\n",
    "print(fullArray)"
   ]
  },
  {
   "cell_type": "code",
   "execution_count": 12,
   "id": "00a7f05b",
   "metadata": {},
   "outputs": [
    {
     "name": "stdout",
     "output_type": "stream",
     "text": [
      "[0 0 0 0 0]\n"
     ]
    }
   ],
   "source": [
    "fullArray = np.full(5,0)\n",
    "print(fullArray)"
   ]
  },
  {
   "cell_type": "markdown",
   "id": "164a0e6d",
   "metadata": {},
   "source": [
    "Scalar Operations"
   ]
  },
  {
   "cell_type": "markdown",
   "id": "8d49628f",
   "metadata": {},
   "source": [
    "Addition and Subtraction\n"
   ]
  },
  {
   "cell_type": "code",
   "execution_count": 13,
   "id": "d3251d68",
   "metadata": {},
   "outputs": [
    {
     "name": "stdout",
     "output_type": "stream",
     "text": [
      "[0 0 0 0 0]\n",
      "[19 19 19 19 19]\n"
     ]
    }
   ],
   "source": [
    "print(fullArray)\n",
    "\n",
    "print(fullArray + 19)"
   ]
  },
  {
   "cell_type": "code",
   "execution_count": 14,
   "id": "16e638c0",
   "metadata": {},
   "outputs": [
    {
     "name": "stdout",
     "output_type": "stream",
     "text": [
      "[[1 2 3]\n",
      " [4 5 6]]\n",
      "After Adding 10\n",
      "[[11 12 13]\n",
      " [14 15 16]]\n"
     ]
    }
   ],
   "source": [
    "twoDArray = np.array([ [1,2,3],[4,5,6] ])\n",
    "print(twoDArray)\n",
    "print('After Adding 10')\n",
    "print(twoDArray + 10)"
   ]
  },
  {
   "cell_type": "code",
   "execution_count": 15,
   "id": "311f793b",
   "metadata": {},
   "outputs": [
    {
     "name": "stdout",
     "output_type": "stream",
     "text": [
      "[[1 2 3]\n",
      " [4 5 6]]\n",
      "After subtracting  2\n",
      "[[-1  0  1]\n",
      " [ 2  3  4]]\n"
     ]
    }
   ],
   "source": [
    "twoDArray = np.array([ [1,2,3],[4,5,6] ])\n",
    "print(twoDArray)\n",
    "print('After subtracting  2')\n",
    "print(twoDArray -2)"
   ]
  },
  {
   "cell_type": "code",
   "execution_count": 16,
   "id": "44c61611",
   "metadata": {},
   "outputs": [
    {
     "name": "stdout",
     "output_type": "stream",
     "text": [
      "[[1 2 3]\n",
      " [4 5 6]]\n",
      "After multiply  2\n",
      "[[ 2  4  6]\n",
      " [ 8 10 12]]\n"
     ]
    }
   ],
   "source": [
    "twoDArray = np.array([ [1,2,3],[4,5,6] ])\n",
    "print(twoDArray)\n",
    "print('After multiply  2')\n",
    "print(twoDArray * 2)"
   ]
  },
  {
   "cell_type": "code",
   "execution_count": 17,
   "id": "3e0116d4",
   "metadata": {},
   "outputs": [
    {
     "name": "stdout",
     "output_type": "stream",
     "text": [
      "[1, 2, 3, 1, 2, 3]\n"
     ]
    }
   ],
   "source": [
    "#checking the same on list \n",
    "lst1 = [1,2,3]\n",
    "print(lst1 * 2)"
   ]
  },
  {
   "cell_type": "code",
   "execution_count": 18,
   "id": "070ecd66",
   "metadata": {},
   "outputs": [
    {
     "name": "stdout",
     "output_type": "stream",
     "text": [
      "[[1 2 3]\n",
      " [4 5 6]]\n",
      "After division from   2\n",
      "[[0.5 1.  1.5]\n",
      " [2.  2.5 3. ]]\n"
     ]
    }
   ],
   "source": [
    "twoDArray = np.array([ [1,2,3],[4,5,6] ])\n",
    "print(twoDArray)\n",
    "print('After division from   2')\n",
    "print(twoDArray / 2)"
   ]
  },
  {
   "cell_type": "code",
   "execution_count": 19,
   "id": "29e123cf",
   "metadata": {},
   "outputs": [
    {
     "name": "stdout",
     "output_type": "stream",
     "text": [
      "[[1 2 3]\n",
      " [4 5 6]]\n",
      "After division from   2\n",
      "[[0 1 1]\n",
      " [2 2 3]]\n"
     ]
    }
   ],
   "source": [
    "twoDArray = np.array([ [1,2,3],[4,5,6] ])\n",
    "print(twoDArray)\n",
    "print('After division from   2')\n",
    "print(twoDArray // 2)"
   ]
  },
  {
   "cell_type": "markdown",
   "id": "9b10b872",
   "metadata": {},
   "source": [
    "Transposing Numpy Array ----> numpyarray.T"
   ]
  },
  {
   "cell_type": "code",
   "execution_count": 20,
   "id": "3e8c9adc",
   "metadata": {},
   "outputs": [
    {
     "name": "stdout",
     "output_type": "stream",
     "text": [
      "Before Transposing\n",
      "[[1 2 3]\n",
      " [4 5 6]]\n",
      "After Transposing\n",
      "[[1 4]\n",
      " [2 5]\n",
      " [3 6]]\n"
     ]
    }
   ],
   "source": [
    "print('Before Transposing')\n",
    "print(twoDArray)\n",
    "print('After Transposing')\n",
    "print(twoDArray.T)"
   ]
  },
  {
   "cell_type": "markdown",
   "id": "73b77df7",
   "metadata": {},
   "source": [
    "Element Wise Addition"
   ]
  },
  {
   "cell_type": "code",
   "execution_count": 21,
   "id": "578ebcec",
   "metadata": {},
   "outputs": [
    {
     "name": "stdout",
     "output_type": "stream",
     "text": [
      "[[ 2  4  6]\n",
      " [ 8 10 12]]\n"
     ]
    }
   ],
   "source": [
    "#Addition\n",
    "twoDArray1 = np.array([ [1,2,3],[4,5,6] ])\n",
    "twoDArray2 = np.array([ [1,2,3],[4,5,6] ])\n",
    "print(twoDArray1 + twoDArray2)\n"
   ]
  },
  {
   "cell_type": "code",
   "execution_count": 22,
   "id": "3d738b1b",
   "metadata": {},
   "outputs": [
    {
     "name": "stdout",
     "output_type": "stream",
     "text": [
      "[[0 0 0]\n",
      " [0 0 0]]\n"
     ]
    }
   ],
   "source": [
    "#Subtraction\n",
    "twoDArray1 = np.array([ [1,2,3],[4,5,6] ])\n",
    "twoDArray2 = np.array([ [1,2,3],[4,5,6] ])\n",
    "print(twoDArray1 - twoDArray2)\n"
   ]
  },
  {
   "cell_type": "code",
   "execution_count": 23,
   "id": "d2aefca2",
   "metadata": {},
   "outputs": [
    {
     "name": "stdout",
     "output_type": "stream",
     "text": [
      "[[ 1  4  9]\n",
      " [16 25 36]]\n"
     ]
    }
   ],
   "source": [
    "#Multiplication \n",
    "twoDArray1 = np.array([ [1,2,3],[4,5,6] ])\n",
    "twoDArray2 = np.array([ [1,2,3],[4,5,6] ])\n",
    "print(twoDArray1 * twoDArray2)\n"
   ]
  },
  {
   "cell_type": "code",
   "execution_count": 24,
   "id": "05a7a690",
   "metadata": {},
   "outputs": [
    {
     "name": "stdout",
     "output_type": "stream",
     "text": [
      "[[1 1 1]\n",
      " [1 1 1]]\n"
     ]
    }
   ],
   "source": [
    "#Division to get int value\n",
    "twoDArray1 = np.array([ [1,2,3],[4,5,6] ])\n",
    "twoDArray2 = np.array([ [1,2,3],[4,5,6] ])\n",
    "print(twoDArray1 // twoDArray2)\n"
   ]
  },
  {
   "cell_type": "code",
   "execution_count": 25,
   "id": "d67d83ac",
   "metadata": {},
   "outputs": [
    {
     "name": "stdout",
     "output_type": "stream",
     "text": [
      "[[1. 1. 1.]\n",
      " [1. 1. 1.]]\n"
     ]
    }
   ],
   "source": [
    "#Division to get float value\n",
    "twoDArray1 = np.array([ [1,2,3],[4,5,6] ])\n",
    "twoDArray2 = np.array([ [1,2,3],[4,5,6] ])\n",
    "print(twoDArray1 / twoDArray2)\n"
   ]
  },
  {
   "cell_type": "markdown",
   "id": "d3ef1607",
   "metadata": {},
   "source": [
    "Matrix Multiplication ----.matmul"
   ]
  },
  {
   "cell_type": "code",
   "execution_count": 26,
   "id": "b3321a59",
   "metadata": {},
   "outputs": [
    {
     "ename": "ValueError",
     "evalue": "matmul: Input operand 1 has a mismatch in its core dimension 0, with gufunc signature (n?,k),(k,m?)->(n?,m?) (size 2 is different from 3)",
     "output_type": "error",
     "traceback": [
      "\u001b[1;31m---------------------------------------------------------------------------\u001b[0m",
      "\u001b[1;31mValueError\u001b[0m                                Traceback (most recent call last)",
      "Cell \u001b[1;32mIn[26], line 1\u001b[0m\n\u001b[1;32m----> 1\u001b[0m \u001b[43mnp\u001b[49m\u001b[38;5;241;43m.\u001b[39;49m\u001b[43mmatmul\u001b[49m\u001b[43m(\u001b[49m\u001b[43mtwoDArray1\u001b[49m\u001b[43m,\u001b[49m\u001b[43mtwoDArray1\u001b[49m\u001b[43m)\u001b[49m\n",
      "\u001b[1;31mValueError\u001b[0m: matmul: Input operand 1 has a mismatch in its core dimension 0, with gufunc signature (n?,k),(k,m?)->(n?,m?) (size 2 is different from 3)"
     ]
    }
   ],
   "source": [
    "np.matmul(twoDArray1,twoDArray1)"
   ]
  },
  {
   "cell_type": "markdown",
   "id": "27c995d4",
   "metadata": {},
   "source": [
    "Here's a step-by-step example to ensure the dimensions are correct:\n",
    "\n",
    "Check the shapes of your arrays.\n",
    "Make sure the number of columns in the first array matches the number of rows in the second array.\n",
    "Let's say twoDArray1 is a 2x3 matrix. To multiply it with another matrix, the second matrix should be a 3xN matrix.\n",
    "In above example: its 2*3 vs 2*3 that's why issue\n"
   ]
  },
  {
   "cell_type": "code",
   "execution_count": null,
   "id": "3db695cf",
   "metadata": {},
   "outputs": [
    {
     "data": {
      "text/plain": [
       "array([[14, 32],\n",
       "       [32, 77]])"
      ]
     },
     "execution_count": 83,
     "metadata": {},
     "output_type": "execute_result"
    }
   ],
   "source": [
    "np.matmul(twoDArray1,twoDArray1.T)"
   ]
  },
  {
   "cell_type": "code",
   "execution_count": null,
   "id": "652930b8",
   "metadata": {},
   "outputs": [
    {
     "name": "stdout",
     "output_type": "stream",
     "text": [
      "[[ 7 10]\n",
      " [15 22]]\n"
     ]
    }
   ],
   "source": [
    "# Example 2D array\n",
    "twoDArray1 = np.array([[1, 2],\n",
    "                       [3, 4]])\n",
    "\n",
    "# Matrix multiplication\n",
    "result = np.matmul(twoDArray1, twoDArray1)\n",
    "\n",
    "print(result)"
   ]
  },
  {
   "cell_type": "code",
   "execution_count": null,
   "id": "8b9bc3ce",
   "metadata": {},
   "outputs": [],
   "source": []
  }
 ],
 "metadata": {
  "kernelspec": {
   "display_name": "Python 3",
   "language": "python",
   "name": "python3"
  },
  "language_info": {
   "codemirror_mode": {
    "name": "ipython",
    "version": 3
   },
   "file_extension": ".py",
   "mimetype": "text/x-python",
   "name": "python",
   "nbconvert_exporter": "python",
   "pygments_lexer": "ipython3",
   "version": "3.10.2"
  }
 },
 "nbformat": 4,
 "nbformat_minor": 5
}
